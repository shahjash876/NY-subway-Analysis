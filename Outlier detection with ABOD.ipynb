{
 "cells": [
  {
   "cell_type": "markdown",
   "id": "821c95d1",
   "metadata": {},
   "source": [
    "# Importing Libraries"
   ]
  },
  {
   "cell_type": "code",
   "execution_count": 45,
   "id": "f0e23b39",
   "metadata": {},
   "outputs": [
    {
     "ename": "ModuleNotFoundError",
     "evalue": "No module named 'pyod'",
     "output_type": "error",
     "traceback": [
      "\u001b[0;31m---------------------------------------------------------------------------\u001b[0m",
      "\u001b[0;31mModuleNotFoundError\u001b[0m                       Traceback (most recent call last)",
      "\u001b[0;32m/var/folders/9x/lft0yj0s06z4nh18zs6bhwhh0000gn/T/ipykernel_487/2863509513.py\u001b[0m in \u001b[0;36m<module>\u001b[0;34m\u001b[0m\n\u001b[1;32m      7\u001b[0m \u001b[0;32mimport\u001b[0m \u001b[0mwarnings\u001b[0m\u001b[0;34m\u001b[0m\u001b[0;34m\u001b[0m\u001b[0m\n\u001b[1;32m      8\u001b[0m \u001b[0mwarnings\u001b[0m\u001b[0;34m.\u001b[0m\u001b[0mfilterwarnings\u001b[0m\u001b[0;34m(\u001b[0m\u001b[0;34m'ignore'\u001b[0m\u001b[0;34m)\u001b[0m\u001b[0;34m\u001b[0m\u001b[0;34m\u001b[0m\u001b[0m\n\u001b[0;32m----> 9\u001b[0;31m \u001b[0;32mfrom\u001b[0m \u001b[0mpyod\u001b[0m\u001b[0;34m.\u001b[0m\u001b[0mmodels\u001b[0m\u001b[0;34m.\u001b[0m\u001b[0mabod\u001b[0m \u001b[0;32mimport\u001b[0m \u001b[0mABOD\u001b[0m\u001b[0;34m\u001b[0m\u001b[0;34m\u001b[0m\u001b[0m\n\u001b[0m\u001b[1;32m     10\u001b[0m \u001b[0;32mfrom\u001b[0m \u001b[0mpyod\u001b[0m\u001b[0;34m.\u001b[0m\u001b[0mmodels\u001b[0m\u001b[0;34m.\u001b[0m\u001b[0mknn\u001b[0m \u001b[0;32mimport\u001b[0m \u001b[0mKNN\u001b[0m\u001b[0;34m\u001b[0m\u001b[0;34m\u001b[0m\u001b[0m\n",
      "\u001b[0;31mModuleNotFoundError\u001b[0m: No module named 'pyod'"
     ]
    }
   ],
   "source": [
    "import pandas as pd\n",
    "import numpy as np\n",
    "import seaborn as sns\n",
    "import matplotlib.pyplot as plt\n",
    "import geopandas as gpd\n",
    "import plotly.express as px\n",
    "import warnings \n",
    "warnings.filterwarnings('ignore')\n",
    "from pyod.models.abod import ABOD\n",
    "from pyod.models.knn import KNN"
   ]
  },
  {
   "cell_type": "markdown",
   "id": "47503b46",
   "metadata": {},
   "source": [
    "# Dataset "
   ]
  },
  {
   "cell_type": "code",
   "execution_count": 46,
   "id": "01e957c8",
   "metadata": {},
   "outputs": [
    {
     "ename": "FileNotFoundError",
     "evalue": "[Errno 2] No such file or directory: 'Dataset example.csv'",
     "output_type": "error",
     "traceback": [
      "\u001b[0;31m---------------------------------------------------------------------------\u001b[0m",
      "\u001b[0;31mFileNotFoundError\u001b[0m                         Traceback (most recent call last)",
      "\u001b[0;32m/var/folders/9x/lft0yj0s06z4nh18zs6bhwhh0000gn/T/ipykernel_487/1478112283.py\u001b[0m in \u001b[0;36m<module>\u001b[0;34m\u001b[0m\n\u001b[0;32m----> 1\u001b[0;31m \u001b[0mdata\u001b[0m \u001b[0;34m=\u001b[0m \u001b[0mpd\u001b[0m\u001b[0;34m.\u001b[0m\u001b[0mread_csv\u001b[0m\u001b[0;34m(\u001b[0m\u001b[0;34m'Dataset example.csv'\u001b[0m\u001b[0;34m,\u001b[0m \u001b[0mdtype\u001b[0m\u001b[0;34m=\u001b[0m\u001b[0;34m{\u001b[0m\u001b[0;34m'stop_name'\u001b[0m\u001b[0;34m:\u001b[0m \u001b[0;34m'str'\u001b[0m\u001b[0;34m,\u001b[0m\u001b[0;34m'daytime_routes'\u001b[0m\u001b[0;34m:\u001b[0m \u001b[0;34m'str'\u001b[0m\u001b[0;34m,\u001b[0m\u001b[0;34m'division'\u001b[0m\u001b[0;34m:\u001b[0m\u001b[0;34m'str'\u001b[0m\u001b[0;34m,\u001b[0m\u001b[0;34m'line'\u001b[0m\u001b[0;34m:\u001b[0m\u001b[0;34m'str'\u001b[0m\u001b[0;34m,\u001b[0m\u001b[0;34m'complex_id'\u001b[0m\u001b[0;34m:\u001b[0m\u001b[0;34m'str'\u001b[0m\u001b[0;34m}\u001b[0m\u001b[0;34m)\u001b[0m\u001b[0;34m\u001b[0m\u001b[0;34m\u001b[0m\u001b[0m\n\u001b[0m",
      "\u001b[0;32m~/opt/anaconda3/lib/python3.9/site-packages/pandas/util/_decorators.py\u001b[0m in \u001b[0;36mwrapper\u001b[0;34m(*args, **kwargs)\u001b[0m\n\u001b[1;32m    309\u001b[0m                     \u001b[0mstacklevel\u001b[0m\u001b[0;34m=\u001b[0m\u001b[0mstacklevel\u001b[0m\u001b[0;34m,\u001b[0m\u001b[0;34m\u001b[0m\u001b[0;34m\u001b[0m\u001b[0m\n\u001b[1;32m    310\u001b[0m                 )\n\u001b[0;32m--> 311\u001b[0;31m             \u001b[0;32mreturn\u001b[0m \u001b[0mfunc\u001b[0m\u001b[0;34m(\u001b[0m\u001b[0;34m*\u001b[0m\u001b[0margs\u001b[0m\u001b[0;34m,\u001b[0m \u001b[0;34m**\u001b[0m\u001b[0mkwargs\u001b[0m\u001b[0;34m)\u001b[0m\u001b[0;34m\u001b[0m\u001b[0;34m\u001b[0m\u001b[0m\n\u001b[0m\u001b[1;32m    312\u001b[0m \u001b[0;34m\u001b[0m\u001b[0m\n\u001b[1;32m    313\u001b[0m         \u001b[0;32mreturn\u001b[0m \u001b[0mwrapper\u001b[0m\u001b[0;34m\u001b[0m\u001b[0;34m\u001b[0m\u001b[0m\n",
      "\u001b[0;32m~/opt/anaconda3/lib/python3.9/site-packages/pandas/io/parsers/readers.py\u001b[0m in \u001b[0;36mread_csv\u001b[0;34m(filepath_or_buffer, sep, delimiter, header, names, index_col, usecols, squeeze, prefix, mangle_dupe_cols, dtype, engine, converters, true_values, false_values, skipinitialspace, skiprows, skipfooter, nrows, na_values, keep_default_na, na_filter, verbose, skip_blank_lines, parse_dates, infer_datetime_format, keep_date_col, date_parser, dayfirst, cache_dates, iterator, chunksize, compression, thousands, decimal, lineterminator, quotechar, quoting, doublequote, escapechar, comment, encoding, encoding_errors, dialect, error_bad_lines, warn_bad_lines, on_bad_lines, delim_whitespace, low_memory, memory_map, float_precision, storage_options)\u001b[0m\n\u001b[1;32m    584\u001b[0m     \u001b[0mkwds\u001b[0m\u001b[0;34m.\u001b[0m\u001b[0mupdate\u001b[0m\u001b[0;34m(\u001b[0m\u001b[0mkwds_defaults\u001b[0m\u001b[0;34m)\u001b[0m\u001b[0;34m\u001b[0m\u001b[0;34m\u001b[0m\u001b[0m\n\u001b[1;32m    585\u001b[0m \u001b[0;34m\u001b[0m\u001b[0m\n\u001b[0;32m--> 586\u001b[0;31m     \u001b[0;32mreturn\u001b[0m \u001b[0m_read\u001b[0m\u001b[0;34m(\u001b[0m\u001b[0mfilepath_or_buffer\u001b[0m\u001b[0;34m,\u001b[0m \u001b[0mkwds\u001b[0m\u001b[0;34m)\u001b[0m\u001b[0;34m\u001b[0m\u001b[0;34m\u001b[0m\u001b[0m\n\u001b[0m\u001b[1;32m    587\u001b[0m \u001b[0;34m\u001b[0m\u001b[0m\n\u001b[1;32m    588\u001b[0m \u001b[0;34m\u001b[0m\u001b[0m\n",
      "\u001b[0;32m~/opt/anaconda3/lib/python3.9/site-packages/pandas/io/parsers/readers.py\u001b[0m in \u001b[0;36m_read\u001b[0;34m(filepath_or_buffer, kwds)\u001b[0m\n\u001b[1;32m    480\u001b[0m \u001b[0;34m\u001b[0m\u001b[0m\n\u001b[1;32m    481\u001b[0m     \u001b[0;31m# Create the parser.\u001b[0m\u001b[0;34m\u001b[0m\u001b[0;34m\u001b[0m\u001b[0m\n\u001b[0;32m--> 482\u001b[0;31m     \u001b[0mparser\u001b[0m \u001b[0;34m=\u001b[0m \u001b[0mTextFileReader\u001b[0m\u001b[0;34m(\u001b[0m\u001b[0mfilepath_or_buffer\u001b[0m\u001b[0;34m,\u001b[0m \u001b[0;34m**\u001b[0m\u001b[0mkwds\u001b[0m\u001b[0;34m)\u001b[0m\u001b[0;34m\u001b[0m\u001b[0;34m\u001b[0m\u001b[0m\n\u001b[0m\u001b[1;32m    483\u001b[0m \u001b[0;34m\u001b[0m\u001b[0m\n\u001b[1;32m    484\u001b[0m     \u001b[0;32mif\u001b[0m \u001b[0mchunksize\u001b[0m \u001b[0;32mor\u001b[0m \u001b[0miterator\u001b[0m\u001b[0;34m:\u001b[0m\u001b[0;34m\u001b[0m\u001b[0;34m\u001b[0m\u001b[0m\n",
      "\u001b[0;32m~/opt/anaconda3/lib/python3.9/site-packages/pandas/io/parsers/readers.py\u001b[0m in \u001b[0;36m__init__\u001b[0;34m(self, f, engine, **kwds)\u001b[0m\n\u001b[1;32m    809\u001b[0m             \u001b[0mself\u001b[0m\u001b[0;34m.\u001b[0m\u001b[0moptions\u001b[0m\u001b[0;34m[\u001b[0m\u001b[0;34m\"has_index_names\"\u001b[0m\u001b[0;34m]\u001b[0m \u001b[0;34m=\u001b[0m \u001b[0mkwds\u001b[0m\u001b[0;34m[\u001b[0m\u001b[0;34m\"has_index_names\"\u001b[0m\u001b[0;34m]\u001b[0m\u001b[0;34m\u001b[0m\u001b[0;34m\u001b[0m\u001b[0m\n\u001b[1;32m    810\u001b[0m \u001b[0;34m\u001b[0m\u001b[0m\n\u001b[0;32m--> 811\u001b[0;31m         \u001b[0mself\u001b[0m\u001b[0;34m.\u001b[0m\u001b[0m_engine\u001b[0m \u001b[0;34m=\u001b[0m \u001b[0mself\u001b[0m\u001b[0;34m.\u001b[0m\u001b[0m_make_engine\u001b[0m\u001b[0;34m(\u001b[0m\u001b[0mself\u001b[0m\u001b[0;34m.\u001b[0m\u001b[0mengine\u001b[0m\u001b[0;34m)\u001b[0m\u001b[0;34m\u001b[0m\u001b[0;34m\u001b[0m\u001b[0m\n\u001b[0m\u001b[1;32m    812\u001b[0m \u001b[0;34m\u001b[0m\u001b[0m\n\u001b[1;32m    813\u001b[0m     \u001b[0;32mdef\u001b[0m \u001b[0mclose\u001b[0m\u001b[0;34m(\u001b[0m\u001b[0mself\u001b[0m\u001b[0;34m)\u001b[0m\u001b[0;34m:\u001b[0m\u001b[0;34m\u001b[0m\u001b[0;34m\u001b[0m\u001b[0m\n",
      "\u001b[0;32m~/opt/anaconda3/lib/python3.9/site-packages/pandas/io/parsers/readers.py\u001b[0m in \u001b[0;36m_make_engine\u001b[0;34m(self, engine)\u001b[0m\n\u001b[1;32m   1038\u001b[0m             )\n\u001b[1;32m   1039\u001b[0m         \u001b[0;31m# error: Too many arguments for \"ParserBase\"\u001b[0m\u001b[0;34m\u001b[0m\u001b[0;34m\u001b[0m\u001b[0m\n\u001b[0;32m-> 1040\u001b[0;31m         \u001b[0;32mreturn\u001b[0m \u001b[0mmapping\u001b[0m\u001b[0;34m[\u001b[0m\u001b[0mengine\u001b[0m\u001b[0;34m]\u001b[0m\u001b[0;34m(\u001b[0m\u001b[0mself\u001b[0m\u001b[0;34m.\u001b[0m\u001b[0mf\u001b[0m\u001b[0;34m,\u001b[0m \u001b[0;34m**\u001b[0m\u001b[0mself\u001b[0m\u001b[0;34m.\u001b[0m\u001b[0moptions\u001b[0m\u001b[0;34m)\u001b[0m  \u001b[0;31m# type: ignore[call-arg]\u001b[0m\u001b[0;34m\u001b[0m\u001b[0;34m\u001b[0m\u001b[0m\n\u001b[0m\u001b[1;32m   1041\u001b[0m \u001b[0;34m\u001b[0m\u001b[0m\n\u001b[1;32m   1042\u001b[0m     \u001b[0;32mdef\u001b[0m \u001b[0m_failover_to_python\u001b[0m\u001b[0;34m(\u001b[0m\u001b[0mself\u001b[0m\u001b[0;34m)\u001b[0m\u001b[0;34m:\u001b[0m\u001b[0;34m\u001b[0m\u001b[0;34m\u001b[0m\u001b[0m\n",
      "\u001b[0;32m~/opt/anaconda3/lib/python3.9/site-packages/pandas/io/parsers/c_parser_wrapper.py\u001b[0m in \u001b[0;36m__init__\u001b[0;34m(self, src, **kwds)\u001b[0m\n\u001b[1;32m     49\u001b[0m \u001b[0;34m\u001b[0m\u001b[0m\n\u001b[1;32m     50\u001b[0m         \u001b[0;31m# open handles\u001b[0m\u001b[0;34m\u001b[0m\u001b[0;34m\u001b[0m\u001b[0m\n\u001b[0;32m---> 51\u001b[0;31m         \u001b[0mself\u001b[0m\u001b[0;34m.\u001b[0m\u001b[0m_open_handles\u001b[0m\u001b[0;34m(\u001b[0m\u001b[0msrc\u001b[0m\u001b[0;34m,\u001b[0m \u001b[0mkwds\u001b[0m\u001b[0;34m)\u001b[0m\u001b[0;34m\u001b[0m\u001b[0;34m\u001b[0m\u001b[0m\n\u001b[0m\u001b[1;32m     52\u001b[0m         \u001b[0;32massert\u001b[0m \u001b[0mself\u001b[0m\u001b[0;34m.\u001b[0m\u001b[0mhandles\u001b[0m \u001b[0;32mis\u001b[0m \u001b[0;32mnot\u001b[0m \u001b[0;32mNone\u001b[0m\u001b[0;34m\u001b[0m\u001b[0;34m\u001b[0m\u001b[0m\n\u001b[1;32m     53\u001b[0m \u001b[0;34m\u001b[0m\u001b[0m\n",
      "\u001b[0;32m~/opt/anaconda3/lib/python3.9/site-packages/pandas/io/parsers/base_parser.py\u001b[0m in \u001b[0;36m_open_handles\u001b[0;34m(self, src, kwds)\u001b[0m\n\u001b[1;32m    220\u001b[0m         \u001b[0mLet\u001b[0m \u001b[0mthe\u001b[0m \u001b[0mreaders\u001b[0m \u001b[0mopen\u001b[0m \u001b[0mIOHandles\u001b[0m \u001b[0mafter\u001b[0m \u001b[0mthey\u001b[0m \u001b[0mare\u001b[0m \u001b[0mdone\u001b[0m \u001b[0;32mwith\u001b[0m \u001b[0mtheir\u001b[0m \u001b[0mpotential\u001b[0m \u001b[0mraises\u001b[0m\u001b[0;34m.\u001b[0m\u001b[0;34m\u001b[0m\u001b[0;34m\u001b[0m\u001b[0m\n\u001b[1;32m    221\u001b[0m         \"\"\"\n\u001b[0;32m--> 222\u001b[0;31m         self.handles = get_handle(\n\u001b[0m\u001b[1;32m    223\u001b[0m             \u001b[0msrc\u001b[0m\u001b[0;34m,\u001b[0m\u001b[0;34m\u001b[0m\u001b[0;34m\u001b[0m\u001b[0m\n\u001b[1;32m    224\u001b[0m             \u001b[0;34m\"r\"\u001b[0m\u001b[0;34m,\u001b[0m\u001b[0;34m\u001b[0m\u001b[0;34m\u001b[0m\u001b[0m\n",
      "\u001b[0;32m~/opt/anaconda3/lib/python3.9/site-packages/pandas/io/common.py\u001b[0m in \u001b[0;36mget_handle\u001b[0;34m(path_or_buf, mode, encoding, compression, memory_map, is_text, errors, storage_options)\u001b[0m\n\u001b[1;32m    700\u001b[0m         \u001b[0;32mif\u001b[0m \u001b[0mioargs\u001b[0m\u001b[0;34m.\u001b[0m\u001b[0mencoding\u001b[0m \u001b[0;32mand\u001b[0m \u001b[0;34m\"b\"\u001b[0m \u001b[0;32mnot\u001b[0m \u001b[0;32min\u001b[0m \u001b[0mioargs\u001b[0m\u001b[0;34m.\u001b[0m\u001b[0mmode\u001b[0m\u001b[0;34m:\u001b[0m\u001b[0;34m\u001b[0m\u001b[0;34m\u001b[0m\u001b[0m\n\u001b[1;32m    701\u001b[0m             \u001b[0;31m# Encoding\u001b[0m\u001b[0;34m\u001b[0m\u001b[0;34m\u001b[0m\u001b[0m\n\u001b[0;32m--> 702\u001b[0;31m             handle = open(\n\u001b[0m\u001b[1;32m    703\u001b[0m                 \u001b[0mhandle\u001b[0m\u001b[0;34m,\u001b[0m\u001b[0;34m\u001b[0m\u001b[0;34m\u001b[0m\u001b[0m\n\u001b[1;32m    704\u001b[0m                 \u001b[0mioargs\u001b[0m\u001b[0;34m.\u001b[0m\u001b[0mmode\u001b[0m\u001b[0;34m,\u001b[0m\u001b[0;34m\u001b[0m\u001b[0;34m\u001b[0m\u001b[0m\n",
      "\u001b[0;31mFileNotFoundError\u001b[0m: [Errno 2] No such file or directory: 'Dataset example.csv'"
     ]
    }
   ],
   "source": [
    "data = pd.read_csv('Dataset example.csv', dtype={'stop_name': 'str','daytime_routes': 'str','division':'str','line':'str','complex_id':'str'})"
   ]
  },
  {
   "cell_type": "code",
   "execution_count": 47,
   "id": "47715d4d",
   "metadata": {},
   "outputs": [
    {
     "ename": "NameError",
     "evalue": "name 'data' is not defined",
     "output_type": "error",
     "traceback": [
      "\u001b[0;31m---------------------------------------------------------------------------\u001b[0m",
      "\u001b[0;31mNameError\u001b[0m                                 Traceback (most recent call last)",
      "\u001b[0;32m/var/folders/9x/lft0yj0s06z4nh18zs6bhwhh0000gn/T/ipykernel_487/391604064.py\u001b[0m in \u001b[0;36m<module>\u001b[0;34m\u001b[0m\n\u001b[0;32m----> 1\u001b[0;31m \u001b[0mdata\u001b[0m\u001b[0;34m\u001b[0m\u001b[0;34m\u001b[0m\u001b[0m\n\u001b[0m",
      "\u001b[0;31mNameError\u001b[0m: name 'data' is not defined"
     ]
    }
   ],
   "source": [
    "data"
   ]
  },
  {
   "cell_type": "markdown",
   "id": "b38e706e",
   "metadata": {},
   "source": [
    "# Data Cleansing"
   ]
  },
  {
   "cell_type": "code",
   "execution_count": 48,
   "id": "be2d665e",
   "metadata": {},
   "outputs": [
    {
     "ename": "NameError",
     "evalue": "name 'data' is not defined",
     "output_type": "error",
     "traceback": [
      "\u001b[0;31m---------------------------------------------------------------------------\u001b[0m",
      "\u001b[0;31mNameError\u001b[0m                                 Traceback (most recent call last)",
      "\u001b[0;32m/var/folders/9x/lft0yj0s06z4nh18zs6bhwhh0000gn/T/ipykernel_487/146081075.py\u001b[0m in \u001b[0;36m<module>\u001b[0;34m\u001b[0m\n\u001b[1;32m      1\u001b[0m \u001b[0;31m# Identifying Null Values in the dataset\u001b[0m\u001b[0;34m\u001b[0m\u001b[0;34m\u001b[0m\u001b[0m\n\u001b[0;32m----> 2\u001b[0;31m \u001b[0mdata\u001b[0m\u001b[0;34m.\u001b[0m\u001b[0misnull\u001b[0m\u001b[0;34m(\u001b[0m\u001b[0;34m)\u001b[0m\u001b[0;34m\u001b[0m\u001b[0;34m\u001b[0m\u001b[0m\n\u001b[0m",
      "\u001b[0;31mNameError\u001b[0m: name 'data' is not defined"
     ]
    }
   ],
   "source": [
    "# Identifying Null Values in the dataset\n",
    "data.isnull()"
   ]
  },
  {
   "cell_type": "code",
   "execution_count": 49,
   "id": "eca8db62",
   "metadata": {},
   "outputs": [
    {
     "ename": "NameError",
     "evalue": "name 'data' is not defined",
     "output_type": "error",
     "traceback": [
      "\u001b[0;31m---------------------------------------------------------------------------\u001b[0m",
      "\u001b[0;31mNameError\u001b[0m                                 Traceback (most recent call last)",
      "\u001b[0;32m/var/folders/9x/lft0yj0s06z4nh18zs6bhwhh0000gn/T/ipykernel_487/489732824.py\u001b[0m in \u001b[0;36m<module>\u001b[0;34m\u001b[0m\n\u001b[1;32m      1\u001b[0m \u001b[0;31m#Total number of null values in each column.\u001b[0m\u001b[0;34m\u001b[0m\u001b[0;34m\u001b[0m\u001b[0m\n\u001b[0;32m----> 2\u001b[0;31m \u001b[0mdata\u001b[0m\u001b[0;34m.\u001b[0m\u001b[0misnull\u001b[0m\u001b[0;34m(\u001b[0m\u001b[0;34m)\u001b[0m\u001b[0;34m.\u001b[0m\u001b[0msum\u001b[0m\u001b[0;34m(\u001b[0m\u001b[0;34m)\u001b[0m\u001b[0;34m\u001b[0m\u001b[0;34m\u001b[0m\u001b[0m\n\u001b[0m",
      "\u001b[0;31mNameError\u001b[0m: name 'data' is not defined"
     ]
    }
   ],
   "source": [
    "#Total number of null values in each column.\n",
    "data.isnull().sum()"
   ]
  },
  {
   "cell_type": "code",
   "execution_count": 50,
   "id": "b164acee",
   "metadata": {},
   "outputs": [
    {
     "ename": "NameError",
     "evalue": "name 'data' is not defined",
     "output_type": "error",
     "traceback": [
      "\u001b[0;31m---------------------------------------------------------------------------\u001b[0m",
      "\u001b[0;31mNameError\u001b[0m                                 Traceback (most recent call last)",
      "\u001b[0;32m/var/folders/9x/lft0yj0s06z4nh18zs6bhwhh0000gn/T/ipykernel_487/3944532242.py\u001b[0m in \u001b[0;36m<module>\u001b[0;34m\u001b[0m\n\u001b[1;32m      1\u001b[0m \u001b[0;31m# Dropping null values from dataset,dropna() drop all rows with null values.\u001b[0m\u001b[0;34m\u001b[0m\u001b[0;34m\u001b[0m\u001b[0m\n\u001b[0;32m----> 2\u001b[0;31m \u001b[0mcd\u001b[0m \u001b[0;34m=\u001b[0m \u001b[0mdata\u001b[0m\u001b[0;34m.\u001b[0m\u001b[0mdropna\u001b[0m\u001b[0;34m(\u001b[0m\u001b[0;34m)\u001b[0m\u001b[0;34m\u001b[0m\u001b[0;34m\u001b[0m\u001b[0m\n\u001b[0m\u001b[1;32m      3\u001b[0m \u001b[0mcd\u001b[0m\u001b[0;34m\u001b[0m\u001b[0;34m\u001b[0m\u001b[0m\n",
      "\u001b[0;31mNameError\u001b[0m: name 'data' is not defined"
     ]
    }
   ],
   "source": [
    "# Dropping null values from dataset,dropna() drop all rows with null values.\n",
    "cd = data.dropna()\n",
    "cd"
   ]
  },
  {
   "cell_type": "code",
   "execution_count": null,
   "id": "59ece0ef",
   "metadata": {},
   "outputs": [],
   "source": [
    "#Modifying dateset by removing extra spaces and dashes.\n",
    "cd.stop_name=cd.stop_name.str.replace('-','').fillna(cd.stop_name)"
   ]
  },
  {
   "cell_type": "code",
   "execution_count": null,
   "id": "bd45c50a",
   "metadata": {},
   "outputs": [],
   "source": [
    "#A new dataframe, A cleaned dataframe \n",
    "cd"
   ]
  },
  {
   "cell_type": "code",
   "execution_count": null,
   "id": "a53f5693",
   "metadata": {},
   "outputs": [],
   "source": [
    "#Identifying the outliers in dataset.\n",
    "sns.set_palette(sns.color_palette(\"crest\"))\n",
    "plt.figure(figsize=(20,4))\n",
    "x = cd['entries']\n",
    "y = cd['exits']\n",
    "sns.relplot(data=cd, x=x, y=y, kind=\"scatter\", hue=\"borough\",aspect=11.7/4.27, height=4)"
   ]
  },
  {
   "cell_type": "markdown",
   "id": "9029bb62",
   "metadata": {},
   "source": [
    "# Angled Based Outlier Detection ABOD"
   ]
  },
  {
   "cell_type": "code",
   "execution_count": null,
   "id": "645150b7",
   "metadata": {},
   "outputs": [],
   "source": [
    "abod_model = ABOD(contamination= 0.1, method='fast', n_neighbors=10)\n",
    "abod_model.fit(cd[['entries','exits']])"
   ]
  },
  {
   "cell_type": "code",
   "execution_count": null,
   "id": "85672bf3",
   "metadata": {},
   "outputs": [],
   "source": [
    "cd['entries_ABOD'] = abod_model.decision_function(cd[['entries','exits']])"
   ]
  },
  {
   "cell_type": "code",
   "execution_count": null,
   "id": "7fa89451",
   "metadata": {},
   "outputs": [],
   "source": [
    "cd['anomaly_ABOD'] = abod_model.predict(cd[['entries','exits']])\n",
    "cd"
   ]
  },
  {
   "cell_type": "code",
   "execution_count": null,
   "id": "850f3667",
   "metadata": {
    "scrolled": false
   },
   "outputs": [],
   "source": [
    "cd[cd['anomaly_ABOD']==0]"
   ]
  },
  {
   "cell_type": "code",
   "execution_count": null,
   "id": "07c747c4",
   "metadata": {},
   "outputs": [],
   "source": [
    "total_outliers = len(cd[cd['anomaly_ABOD']!=0])"
   ]
  },
  {
   "cell_type": "code",
   "execution_count": null,
   "id": "10e0990e",
   "metadata": {},
   "outputs": [],
   "source": [
    "total_outliers"
   ]
  },
  {
   "cell_type": "code",
   "execution_count": null,
   "id": "5cb8788f",
   "metadata": {},
   "outputs": [],
   "source": [
    "total_inliers = len(cd[cd['anomaly_ABOD']==0])"
   ]
  },
  {
   "cell_type": "code",
   "execution_count": null,
   "id": "2028655d",
   "metadata": {},
   "outputs": [],
   "source": [
    "total_inliers"
   ]
  },
  {
   "cell_type": "code",
   "execution_count": null,
   "id": "cad40d71",
   "metadata": {},
   "outputs": [],
   "source": [
    "plt.title(\"Angle Based Outlier Detection\")\n",
    "sns.distplot(cd['anomaly_ABOD'])"
   ]
  },
  {
   "cell_type": "markdown",
   "id": "b38ef523",
   "metadata": {},
   "source": [
    "# K-Nearest Neighbours KNN "
   ]
  },
  {
   "cell_type": "code",
   "execution_count": 2,
   "id": "eb9831e1",
   "metadata": {},
   "outputs": [
    {
     "ename": "ModuleNotFoundError",
     "evalue": "No module named 'pyod'",
     "output_type": "error",
     "traceback": [
      "\u001b[0;31m---------------------------------------------------------------------------\u001b[0m",
      "\u001b[0;31mModuleNotFoundError\u001b[0m                       Traceback (most recent call last)",
      "\u001b[0;32m/var/folders/9x/lft0yj0s06z4nh18zs6bhwhh0000gn/T/ipykernel_487/991813307.py\u001b[0m in \u001b[0;36m<module>\u001b[0;34m\u001b[0m\n\u001b[0;32m----> 1\u001b[0;31m \u001b[0;32mfrom\u001b[0m \u001b[0mpyod\u001b[0m\u001b[0;34m.\u001b[0m\u001b[0mmodels\u001b[0m\u001b[0;34m.\u001b[0m\u001b[0mknn\u001b[0m \u001b[0;32mimport\u001b[0m \u001b[0mKNN\u001b[0m\u001b[0;34m\u001b[0m\u001b[0;34m\u001b[0m\u001b[0m\n\u001b[0m",
      "\u001b[0;31mModuleNotFoundError\u001b[0m: No module named 'pyod'"
     ]
    }
   ],
   "source": [
    "from pyod.models.knn import KNN"
   ]
  },
  {
   "cell_type": "code",
   "execution_count": 3,
   "id": "41760242",
   "metadata": {},
   "outputs": [
    {
     "ename": "NameError",
     "evalue": "name 'KNN' is not defined",
     "output_type": "error",
     "traceback": [
      "\u001b[0;31m---------------------------------------------------------------------------\u001b[0m",
      "\u001b[0;31mNameError\u001b[0m                                 Traceback (most recent call last)",
      "\u001b[0;32m/var/folders/9x/lft0yj0s06z4nh18zs6bhwhh0000gn/T/ipykernel_487/2956512590.py\u001b[0m in \u001b[0;36m<module>\u001b[0;34m\u001b[0m\n\u001b[0;32m----> 1\u001b[0;31m \u001b[0mknn_model\u001b[0m \u001b[0;34m=\u001b[0m \u001b[0mKNN\u001b[0m\u001b[0;34m(\u001b[0m\u001b[0mcontamination\u001b[0m \u001b[0;34m=\u001b[0m \u001b[0;36m0.1\u001b[0m\u001b[0;34m)\u001b[0m\u001b[0;34m\u001b[0m\u001b[0;34m\u001b[0m\u001b[0m\n\u001b[0m",
      "\u001b[0;31mNameError\u001b[0m: name 'KNN' is not defined"
     ]
    }
   ],
   "source": [
    "knn_model = KNN(contamination = 0.1)"
   ]
  },
  {
   "cell_type": "code",
   "execution_count": 4,
   "id": "ed56b10b",
   "metadata": {},
   "outputs": [
    {
     "ename": "NameError",
     "evalue": "name 'knn_model' is not defined",
     "output_type": "error",
     "traceback": [
      "\u001b[0;31m---------------------------------------------------------------------------\u001b[0m",
      "\u001b[0;31mNameError\u001b[0m                                 Traceback (most recent call last)",
      "\u001b[0;32m/var/folders/9x/lft0yj0s06z4nh18zs6bhwhh0000gn/T/ipykernel_487/3905382657.py\u001b[0m in \u001b[0;36m<module>\u001b[0;34m\u001b[0m\n\u001b[0;32m----> 1\u001b[0;31m \u001b[0mknn_model\u001b[0m\u001b[0;34m.\u001b[0m\u001b[0mfit\u001b[0m\u001b[0;34m(\u001b[0m\u001b[0mcd\u001b[0m\u001b[0;34m[\u001b[0m\u001b[0;34m[\u001b[0m\u001b[0;34m'entries'\u001b[0m\u001b[0;34m,\u001b[0m\u001b[0;34m'exits'\u001b[0m\u001b[0;34m]\u001b[0m\u001b[0;34m]\u001b[0m\u001b[0;34m)\u001b[0m\u001b[0;34m\u001b[0m\u001b[0;34m\u001b[0m\u001b[0m\n\u001b[0m",
      "\u001b[0;31mNameError\u001b[0m: name 'knn_model' is not defined"
     ]
    }
   ],
   "source": [
    "knn_model.fit(cd[['entries','exits']])"
   ]
  },
  {
   "cell_type": "code",
   "execution_count": 5,
   "id": "341d9792",
   "metadata": {},
   "outputs": [
    {
     "name": "stdout",
     "output_type": "stream",
     "text": [
      "[Errno 2] No such file or directory: '[entries_KNN] = knn_model.decision_function(cd[[entries,exits]])'\n",
      "/Users/jashshah/CAPSTONE PROJECT \n"
     ]
    }
   ],
   "source": [
    "cd['entries_KNN'] = knn_model.decision_function(cd[['entries','exits']])"
   ]
  },
  {
   "cell_type": "code",
   "execution_count": 6,
   "id": "d992cdb5",
   "metadata": {},
   "outputs": [
    {
     "name": "stdout",
     "output_type": "stream",
     "text": [
      "[Errno 2] No such file or directory: '[anomaly_knn] = knn_model.predict(cd[[entries,exits]])'\n",
      "/Users/jashshah/CAPSTONE PROJECT \n"
     ]
    }
   ],
   "source": [
    "cd['anomaly_knn'] = knn_model.predict(cd[['entries','exits']])"
   ]
  },
  {
   "cell_type": "code",
   "execution_count": 7,
   "id": "2292a07a",
   "metadata": {},
   "outputs": [
    {
     "name": "stdout",
     "output_type": "stream",
     "text": [
      "/Users/jashshah\n"
     ]
    }
   ],
   "source": [
    "cd"
   ]
  },
  {
   "cell_type": "code",
   "execution_count": 8,
   "id": "40bf91b4",
   "metadata": {},
   "outputs": [
    {
     "ename": "NameError",
     "evalue": "name 'cd' is not defined",
     "output_type": "error",
     "traceback": [
      "\u001b[0;31m---------------------------------------------------------------------------\u001b[0m",
      "\u001b[0;31mNameError\u001b[0m                                 Traceback (most recent call last)",
      "\u001b[0;32m/var/folders/9x/lft0yj0s06z4nh18zs6bhwhh0000gn/T/ipykernel_487/2861614278.py\u001b[0m in \u001b[0;36m<module>\u001b[0;34m\u001b[0m\n\u001b[0;32m----> 1\u001b[0;31m \u001b[0mtotal_outliers_\u001b[0m \u001b[0;34m=\u001b[0m \u001b[0mlen\u001b[0m\u001b[0;34m(\u001b[0m\u001b[0mcd\u001b[0m\u001b[0;34m[\u001b[0m\u001b[0mcd\u001b[0m\u001b[0;34m[\u001b[0m\u001b[0;34m'anomaly_knn'\u001b[0m\u001b[0;34m]\u001b[0m\u001b[0;34m==\u001b[0m\u001b[0;36m1\u001b[0m\u001b[0;34m]\u001b[0m\u001b[0;34m)\u001b[0m\u001b[0;34m\u001b[0m\u001b[0;34m\u001b[0m\u001b[0m\n\u001b[0m",
      "\u001b[0;31mNameError\u001b[0m: name 'cd' is not defined"
     ]
    }
   ],
   "source": [
    "total_outliers_ = len(cd[cd['anomaly_knn']==1])"
   ]
  },
  {
   "cell_type": "code",
   "execution_count": 9,
   "id": "f2be27f0",
   "metadata": {},
   "outputs": [
    {
     "ename": "NameError",
     "evalue": "name 'total_outliers_' is not defined",
     "output_type": "error",
     "traceback": [
      "\u001b[0;31m---------------------------------------------------------------------------\u001b[0m",
      "\u001b[0;31mNameError\u001b[0m                                 Traceback (most recent call last)",
      "\u001b[0;32m/var/folders/9x/lft0yj0s06z4nh18zs6bhwhh0000gn/T/ipykernel_487/2471561741.py\u001b[0m in \u001b[0;36m<module>\u001b[0;34m\u001b[0m\n\u001b[0;32m----> 1\u001b[0;31m \u001b[0mtotal_outliers_\u001b[0m\u001b[0;34m\u001b[0m\u001b[0;34m\u001b[0m\u001b[0m\n\u001b[0m",
      "\u001b[0;31mNameError\u001b[0m: name 'total_outliers_' is not defined"
     ]
    }
   ],
   "source": [
    "total_outliers_"
   ]
  },
  {
   "cell_type": "code",
   "execution_count": 10,
   "id": "eae2d39b",
   "metadata": {},
   "outputs": [
    {
     "ename": "NameError",
     "evalue": "name 'cd' is not defined",
     "output_type": "error",
     "traceback": [
      "\u001b[0;31m---------------------------------------------------------------------------\u001b[0m",
      "\u001b[0;31mNameError\u001b[0m                                 Traceback (most recent call last)",
      "\u001b[0;32m/var/folders/9x/lft0yj0s06z4nh18zs6bhwhh0000gn/T/ipykernel_487/61987191.py\u001b[0m in \u001b[0;36m<module>\u001b[0;34m\u001b[0m\n\u001b[0;32m----> 1\u001b[0;31m \u001b[0mtotal_inliers_\u001b[0m \u001b[0;34m=\u001b[0m \u001b[0mlen\u001b[0m\u001b[0;34m(\u001b[0m\u001b[0mcd\u001b[0m\u001b[0;34m[\u001b[0m\u001b[0mcd\u001b[0m\u001b[0;34m[\u001b[0m\u001b[0;34m'anomaly_knn'\u001b[0m\u001b[0;34m]\u001b[0m\u001b[0;34m==\u001b[0m\u001b[0;36m0\u001b[0m\u001b[0;34m]\u001b[0m\u001b[0;34m)\u001b[0m\u001b[0;34m\u001b[0m\u001b[0;34m\u001b[0m\u001b[0m\n\u001b[0m",
      "\u001b[0;31mNameError\u001b[0m: name 'cd' is not defined"
     ]
    }
   ],
   "source": [
    "total_inliers_ = len(cd[cd['anomaly_knn']==0])"
   ]
  },
  {
   "cell_type": "code",
   "execution_count": 11,
   "id": "960a10ae",
   "metadata": {},
   "outputs": [
    {
     "ename": "NameError",
     "evalue": "name 'total_inliers_' is not defined",
     "output_type": "error",
     "traceback": [
      "\u001b[0;31m---------------------------------------------------------------------------\u001b[0m",
      "\u001b[0;31mNameError\u001b[0m                                 Traceback (most recent call last)",
      "\u001b[0;32m/var/folders/9x/lft0yj0s06z4nh18zs6bhwhh0000gn/T/ipykernel_487/2319878444.py\u001b[0m in \u001b[0;36m<module>\u001b[0;34m\u001b[0m\n\u001b[0;32m----> 1\u001b[0;31m \u001b[0mtotal_inliers_\u001b[0m\u001b[0;34m\u001b[0m\u001b[0;34m\u001b[0m\u001b[0m\n\u001b[0m",
      "\u001b[0;31mNameError\u001b[0m: name 'total_inliers_' is not defined"
     ]
    }
   ],
   "source": [
    "total_inliers_"
   ]
  },
  {
   "cell_type": "code",
   "execution_count": 12,
   "id": "2ed3b676",
   "metadata": {},
   "outputs": [
    {
     "ename": "NameError",
     "evalue": "name 'cd' is not defined",
     "output_type": "error",
     "traceback": [
      "\u001b[0;31m---------------------------------------------------------------------------\u001b[0m",
      "\u001b[0;31mNameError\u001b[0m                                 Traceback (most recent call last)",
      "\u001b[0;32m/var/folders/9x/lft0yj0s06z4nh18zs6bhwhh0000gn/T/ipykernel_487/4236547984.py\u001b[0m in \u001b[0;36m<module>\u001b[0;34m\u001b[0m\n\u001b[1;32m      1\u001b[0m \u001b[0mplt\u001b[0m\u001b[0;34m.\u001b[0m\u001b[0mtitle\u001b[0m\u001b[0;34m(\u001b[0m\u001b[0;34m\"KNN\"\u001b[0m\u001b[0;34m)\u001b[0m\u001b[0;34m\u001b[0m\u001b[0;34m\u001b[0m\u001b[0m\n\u001b[0;32m----> 2\u001b[0;31m \u001b[0msns\u001b[0m\u001b[0;34m.\u001b[0m\u001b[0mdistplot\u001b[0m\u001b[0;34m(\u001b[0m\u001b[0mcd\u001b[0m\u001b[0;34m[\u001b[0m\u001b[0;34m'anomaly_knn'\u001b[0m\u001b[0;34m]\u001b[0m\u001b[0;34m)\u001b[0m\u001b[0;34m\u001b[0m\u001b[0;34m\u001b[0m\u001b[0m\n\u001b[0m",
      "\u001b[0;31mNameError\u001b[0m: name 'cd' is not defined"
     ]
    },
    {
     "data": {
      "image/png": "[encoded data removed]",
      "text/plain": [
       "<Figure size 432x288 with 1 Axes>"
      ]
     },
     "metadata": {
      "needs_background": "light"
     },
     "output_type": "display_data"
    }
   ],
   "source": [
    "plt.title(\"KNN\")\n",
    "sns.distplot(cd['anomaly_knn'])"
   ]
  },
  {
   "cell_type": "markdown",
   "id": "34efb9e8",
   "metadata": {},
   "source": [
    "# Cluster-based Local Outlier Factor CBLOF "
   ]
  },
  {
   "cell_type": "code",
   "execution_count": 13,
   "id": "1d4bfae2",
   "metadata": {},
   "outputs": [
    {
     "ename": "ModuleNotFoundError",
     "evalue": "No module named 'pyod'",
     "output_type": "error",
     "traceback": [
      "\u001b[0;31m---------------------------------------------------------------------------\u001b[0m",
      "\u001b[0;31mModuleNotFoundError\u001b[0m                       Traceback (most recent call last)",
      "\u001b[0;32m/var/folders/9x/lft0yj0s06z4nh18zs6bhwhh0000gn/T/ipykernel_487/2366915038.py\u001b[0m in \u001b[0;36m<module>\u001b[0;34m\u001b[0m\n\u001b[0;32m----> 1\u001b[0;31m \u001b[0;32mfrom\u001b[0m \u001b[0mpyod\u001b[0m\u001b[0;34m.\u001b[0m\u001b[0mmodels\u001b[0m\u001b[0;34m.\u001b[0m\u001b[0mcblof\u001b[0m \u001b[0;32mimport\u001b[0m \u001b[0mCBLOF\u001b[0m\u001b[0;34m\u001b[0m\u001b[0;34m\u001b[0m\u001b[0m\n\u001b[0m",
      "\u001b[0;31mModuleNotFoundError\u001b[0m: No module named 'pyod'"
     ]
    }
   ],
   "source": [
    "from pyod.models.cblof import CBLOF"
   ]
  },
  {
   "cell_type": "code",
   "execution_count": 14,
   "id": "cba16b84",
   "metadata": {},
   "outputs": [
    {
     "ename": "NameError",
     "evalue": "name 'CBLOF' is not defined",
     "output_type": "error",
     "traceback": [
      "\u001b[0;31m---------------------------------------------------------------------------\u001b[0m",
      "\u001b[0;31mNameError\u001b[0m                                 Traceback (most recent call last)",
      "\u001b[0;32m/var/folders/9x/lft0yj0s06z4nh18zs6bhwhh0000gn/T/ipykernel_487/1499524065.py\u001b[0m in \u001b[0;36m<module>\u001b[0;34m\u001b[0m\n\u001b[0;32m----> 1\u001b[0;31m \u001b[0mcblof_model\u001b[0m \u001b[0;34m=\u001b[0m \u001b[0mCBLOF\u001b[0m\u001b[0;34m(\u001b[0m\u001b[0mcontamination\u001b[0m \u001b[0;34m=\u001b[0m \u001b[0;36m0.1\u001b[0m\u001b[0;34m)\u001b[0m\u001b[0;34m\u001b[0m\u001b[0;34m\u001b[0m\u001b[0m\n\u001b[0m",
      "\u001b[0;31mNameError\u001b[0m: name 'CBLOF' is not defined"
     ]
    }
   ],
   "source": [
    "cblof_model = CBLOF(contamination = 0.1)"
   ]
  },
  {
   "cell_type": "code",
   "execution_count": 15,
   "id": "0779dfae",
   "metadata": {},
   "outputs": [
    {
     "ename": "NameError",
     "evalue": "name 'cblof_model' is not defined",
     "output_type": "error",
     "traceback": [
      "\u001b[0;31m---------------------------------------------------------------------------\u001b[0m",
      "\u001b[0;31mNameError\u001b[0m                                 Traceback (most recent call last)",
      "\u001b[0;32m/var/folders/9x/lft0yj0s06z4nh18zs6bhwhh0000gn/T/ipykernel_487/1334393625.py\u001b[0m in \u001b[0;36m<module>\u001b[0;34m\u001b[0m\n\u001b[0;32m----> 1\u001b[0;31m \u001b[0mcblof_model\u001b[0m\u001b[0;34m.\u001b[0m\u001b[0mfit\u001b[0m\u001b[0;34m(\u001b[0m\u001b[0mcd\u001b[0m\u001b[0;34m[\u001b[0m\u001b[0;34m[\u001b[0m\u001b[0;34m'entries'\u001b[0m\u001b[0;34m,\u001b[0m\u001b[0;34m'exits'\u001b[0m\u001b[0;34m]\u001b[0m\u001b[0;34m]\u001b[0m\u001b[0;34m)\u001b[0m\u001b[0;34m\u001b[0m\u001b[0;34m\u001b[0m\u001b[0m\n\u001b[0m",
      "\u001b[0;31mNameError\u001b[0m: name 'cblof_model' is not defined"
     ]
    }
   ],
   "source": [
    "cblof_model.fit(cd[['entries','exits']])"
   ]
  },
  {
   "cell_type": "code",
   "execution_count": 16,
   "id": "220f89e9",
   "metadata": {},
   "outputs": [
    {
     "name": "stdout",
     "output_type": "stream",
     "text": [
      "[Errno 2] No such file or directory: '[Score_CBLOF] = cblof_model.decision_function(cd[[entries,exits]])'\n",
      "/Users/jashshah\n"
     ]
    }
   ],
   "source": [
    "cd['Score_CBLOF'] = cblof_model.decision_function(cd[['entries','exits']])"
   ]
  },
  {
   "cell_type": "code",
   "execution_count": 17,
   "id": "66bc123d",
   "metadata": {},
   "outputs": [
    {
     "name": "stdout",
     "output_type": "stream",
     "text": [
      "[Errno 2] No such file or directory: '[Anomaly_CBLOF] = cblof_model.predict(cd[[entries,exits]])'\n",
      "/Users/jashshah\n"
     ]
    }
   ],
   "source": [
    "cd['Anomaly_CBLOF'] = cblof_model.predict(cd[['entries','exits']])"
   ]
  },
  {
   "cell_type": "code",
   "execution_count": 18,
   "id": "8e75e1d7",
   "metadata": {},
   "outputs": [
    {
     "name": "stdout",
     "output_type": "stream",
     "text": [
      "/Users/jashshah\n"
     ]
    }
   ],
   "source": [
    "cd"
   ]
  },
  {
   "cell_type": "code",
   "execution_count": 19,
   "id": "962de001",
   "metadata": {},
   "outputs": [
    {
     "ename": "NameError",
     "evalue": "name 'cd' is not defined",
     "output_type": "error",
     "traceback": [
      "\u001b[0;31m---------------------------------------------------------------------------\u001b[0m",
      "\u001b[0;31mNameError\u001b[0m                                 Traceback (most recent call last)",
      "\u001b[0;32m/var/folders/9x/lft0yj0s06z4nh18zs6bhwhh0000gn/T/ipykernel_487/1608419267.py\u001b[0m in \u001b[0;36m<module>\u001b[0;34m\u001b[0m\n\u001b[0;32m----> 1\u001b[0;31m \u001b[0mtotal_outliers_2\u001b[0m \u001b[0;34m=\u001b[0m \u001b[0mlen\u001b[0m\u001b[0;34m(\u001b[0m\u001b[0mcd\u001b[0m\u001b[0;34m[\u001b[0m\u001b[0mcd\u001b[0m\u001b[0;34m[\u001b[0m\u001b[0;34m'Anomaly_CBLOF'\u001b[0m\u001b[0;34m]\u001b[0m\u001b[0;34m==\u001b[0m\u001b[0;36m1\u001b[0m\u001b[0;34m]\u001b[0m\u001b[0;34m)\u001b[0m\u001b[0;34m\u001b[0m\u001b[0;34m\u001b[0m\u001b[0m\n\u001b[0m",
      "\u001b[0;31mNameError\u001b[0m: name 'cd' is not defined"
     ]
    }
   ],
   "source": [
    "total_outliers_2 = len(cd[cd['Anomaly_CBLOF']==1])"
   ]
  },
  {
   "cell_type": "code",
   "execution_count": 20,
   "id": "88335dc5",
   "metadata": {},
   "outputs": [
    {
     "ename": "NameError",
     "evalue": "name 'total_outliers_2' is not defined",
     "output_type": "error",
     "traceback": [
      "\u001b[0;31m---------------------------------------------------------------------------\u001b[0m",
      "\u001b[0;31mNameError\u001b[0m                                 Traceback (most recent call last)",
      "\u001b[0;32m/var/folders/9x/lft0yj0s06z4nh18zs6bhwhh0000gn/T/ipykernel_487/334030242.py\u001b[0m in \u001b[0;36m<module>\u001b[0;34m\u001b[0m\n\u001b[0;32m----> 1\u001b[0;31m \u001b[0mtotal_outliers_2\u001b[0m\u001b[0;34m\u001b[0m\u001b[0;34m\u001b[0m\u001b[0m\n\u001b[0m",
      "\u001b[0;31mNameError\u001b[0m: name 'total_outliers_2' is not defined"
     ]
    }
   ],
   "source": [
    "total_outliers_2"
   ]
  },
  {
   "cell_type": "code",
   "execution_count": 21,
   "id": "8ab6457d",
   "metadata": {},
   "outputs": [
    {
     "ename": "NameError",
     "evalue": "name 'cd' is not defined",
     "output_type": "error",
     "traceback": [
      "\u001b[0;31m---------------------------------------------------------------------------\u001b[0m",
      "\u001b[0;31mNameError\u001b[0m                                 Traceback (most recent call last)",
      "\u001b[0;32m/var/folders/9x/lft0yj0s06z4nh18zs6bhwhh0000gn/T/ipykernel_487/2828123980.py\u001b[0m in \u001b[0;36m<module>\u001b[0;34m\u001b[0m\n\u001b[0;32m----> 1\u001b[0;31m \u001b[0mtotal_inliers_2\u001b[0m \u001b[0;34m=\u001b[0m \u001b[0mlen\u001b[0m\u001b[0;34m(\u001b[0m\u001b[0mcd\u001b[0m\u001b[0;34m[\u001b[0m\u001b[0mcd\u001b[0m\u001b[0;34m[\u001b[0m\u001b[0;34m'Anomaly_CBLOF'\u001b[0m\u001b[0;34m]\u001b[0m\u001b[0;34m==\u001b[0m\u001b[0;36m0\u001b[0m\u001b[0;34m]\u001b[0m\u001b[0;34m)\u001b[0m\u001b[0;34m\u001b[0m\u001b[0;34m\u001b[0m\u001b[0m\n\u001b[0m\u001b[1;32m      2\u001b[0m \u001b[0mtotal_inliers_2\u001b[0m\u001b[0;34m\u001b[0m\u001b[0;34m\u001b[0m\u001b[0m\n",
      "\u001b[0;31mNameError\u001b[0m: name 'cd' is not defined"
     ]
    }
   ],
   "source": [
    "total_inliers_2 = len(cd[cd['Anomaly_CBLOF']==0])\n",
    "total_inliers_2"
   ]
  },
  {
   "cell_type": "code",
   "execution_count": 22,
   "id": "67cf0731",
   "metadata": {},
   "outputs": [
    {
     "ename": "NameError",
     "evalue": "name 'cd' is not defined",
     "output_type": "error",
     "traceback": [
      "\u001b[0;31m---------------------------------------------------------------------------\u001b[0m",
      "\u001b[0;31mNameError\u001b[0m                                 Traceback (most recent call last)",
      "\u001b[0;32m/var/folders/9x/lft0yj0s06z4nh18zs6bhwhh0000gn/T/ipykernel_487/2937098211.py\u001b[0m in \u001b[0;36m<module>\u001b[0;34m\u001b[0m\n\u001b[1;32m      1\u001b[0m \u001b[0mplt\u001b[0m\u001b[0;34m.\u001b[0m\u001b[0mtitle\u001b[0m\u001b[0;34m(\u001b[0m\u001b[0;34m\"Cluster-based Local Outlier Factor CBLOF\"\u001b[0m\u001b[0;34m)\u001b[0m\u001b[0;34m\u001b[0m\u001b[0;34m\u001b[0m\u001b[0m\n\u001b[1;32m      2\u001b[0m \u001b[0;34m\u001b[0m\u001b[0m\n\u001b[0;32m----> 3\u001b[0;31m \u001b[0msns\u001b[0m\u001b[0;34m.\u001b[0m\u001b[0mdistplot\u001b[0m\u001b[0;34m(\u001b[0m\u001b[0mcd\u001b[0m\u001b[0;34m[\u001b[0m\u001b[0;34m'Anomaly_CBLOF'\u001b[0m\u001b[0;34m]\u001b[0m\u001b[0;34m)\u001b[0m\u001b[0;34m\u001b[0m\u001b[0;34m\u001b[0m\u001b[0m\n\u001b[0m",
      "\u001b[0;31mNameError\u001b[0m: name 'cd' is not defined"
     ]
    },
    {
     "data": {
      "image/png": "[encoded data removed]",
      "text/plain": [
       "<Figure size 432x288 with 1 Axes>"
      ]
     },
     "metadata": {
      "needs_background": "light"
     },
     "output_type": "display_data"
    }
   ],
   "source": [
    "plt.title(\"Cluster-based Local Outlier Factor CBLOF\")\n",
    "\n",
    "sns.distplot(cd['Anomaly_CBLOF'])"
   ]
  },
  {
   "cell_type": "markdown",
   "id": "2c780497",
   "metadata": {},
   "source": [
    "# Isolation Forest IForest"
   ]
  },
  {
   "cell_type": "code",
   "execution_count": 23,
   "id": "adc34ac2",
   "metadata": {},
   "outputs": [
    {
     "ename": "ModuleNotFoundError",
     "evalue": "No module named 'pyod'",
     "output_type": "error",
     "traceback": [
      "\u001b[0;31m---------------------------------------------------------------------------\u001b[0m",
      "\u001b[0;31mModuleNotFoundError\u001b[0m                       Traceback (most recent call last)",
      "\u001b[0;32m/var/folders/9x/lft0yj0s06z4nh18zs6bhwhh0000gn/T/ipykernel_487/1808492288.py\u001b[0m in \u001b[0;36m<module>\u001b[0;34m\u001b[0m\n\u001b[0;32m----> 1\u001b[0;31m \u001b[0;32mfrom\u001b[0m \u001b[0mpyod\u001b[0m\u001b[0;34m.\u001b[0m\u001b[0mmodels\u001b[0m\u001b[0;34m.\u001b[0m\u001b[0miforest\u001b[0m \u001b[0;32mimport\u001b[0m \u001b[0mIForest\u001b[0m\u001b[0;34m\u001b[0m\u001b[0;34m\u001b[0m\u001b[0m\n\u001b[0m",
      "\u001b[0;31mModuleNotFoundError\u001b[0m: No module named 'pyod'"
     ]
    }
   ],
   "source": [
    "from pyod.models.iforest import IForest"
   ]
  },
  {
   "cell_type": "code",
   "execution_count": 24,
   "id": "6e022814",
   "metadata": {},
   "outputs": [
    {
     "ename": "NameError",
     "evalue": "name 'IForest' is not defined",
     "output_type": "error",
     "traceback": [
      "\u001b[0;31m---------------------------------------------------------------------------\u001b[0m",
      "\u001b[0;31mNameError\u001b[0m                                 Traceback (most recent call last)",
      "\u001b[0;32m/var/folders/9x/lft0yj0s06z4nh18zs6bhwhh0000gn/T/ipykernel_487/844216065.py\u001b[0m in \u001b[0;36m<module>\u001b[0;34m\u001b[0m\n\u001b[0;32m----> 1\u001b[0;31m \u001b[0miforest_model\u001b[0m \u001b[0;34m=\u001b[0m \u001b[0mIForest\u001b[0m\u001b[0;34m(\u001b[0m\u001b[0mcontamination\u001b[0m \u001b[0;34m=\u001b[0m \u001b[0;36m0.1\u001b[0m\u001b[0;34m)\u001b[0m\u001b[0;34m\u001b[0m\u001b[0;34m\u001b[0m\u001b[0m\n\u001b[0m",
      "\u001b[0;31mNameError\u001b[0m: name 'IForest' is not defined"
     ]
    }
   ],
   "source": [
    "iforest_model = IForest(contamination = 0.1)"
   ]
  },
  {
   "cell_type": "code",
   "execution_count": 25,
   "id": "5e9413cc",
   "metadata": {},
   "outputs": [
    {
     "ename": "NameError",
     "evalue": "name 'iforest_model' is not defined",
     "output_type": "error",
     "traceback": [
      "\u001b[0;31m---------------------------------------------------------------------------\u001b[0m",
      "\u001b[0;31mNameError\u001b[0m                                 Traceback (most recent call last)",
      "\u001b[0;32m/var/folders/9x/lft0yj0s06z4nh18zs6bhwhh0000gn/T/ipykernel_487/2533360869.py\u001b[0m in \u001b[0;36m<module>\u001b[0;34m\u001b[0m\n\u001b[0;32m----> 1\u001b[0;31m \u001b[0miforest_model\u001b[0m\u001b[0;34m.\u001b[0m\u001b[0mfit\u001b[0m\u001b[0;34m(\u001b[0m\u001b[0mcd\u001b[0m\u001b[0;34m[\u001b[0m\u001b[0;34m[\u001b[0m\u001b[0;34m'entries'\u001b[0m\u001b[0;34m,\u001b[0m\u001b[0;34m'exits'\u001b[0m\u001b[0;34m]\u001b[0m\u001b[0;34m]\u001b[0m\u001b[0;34m)\u001b[0m\u001b[0;34m\u001b[0m\u001b[0;34m\u001b[0m\u001b[0m\n\u001b[0m",
      "\u001b[0;31mNameError\u001b[0m: name 'iforest_model' is not defined"
     ]
    }
   ],
   "source": [
    "iforest_model.fit(cd[['entries','exits']])"
   ]
  },
  {
   "cell_type": "code",
   "execution_count": 26,
   "id": "7534792c",
   "metadata": {},
   "outputs": [
    {
     "name": "stdout",
     "output_type": "stream",
     "text": [
      "[Errno 2] No such file or directory: '[Score_iForest] = iforest_model.decision_function(cd[[entries,exits]])'\n",
      "/Users/jashshah\n"
     ]
    }
   ],
   "source": [
    "cd['Score_iForest'] = iforest_model.decision_function(cd[['entries','exits']])"
   ]
  },
  {
   "cell_type": "code",
   "execution_count": 47,
   "id": "9c7f1bbe",
   "metadata": {},
   "outputs": [],
   "source": [
    "cd['Anomaly_iforest'] = iforest_model.predict(cd[['entries','exits']])"
   ]
  },
  {
   "cell_type": "code",
   "execution_count": 48,
   "id": "a20f613a",
   "metadata": {},
   "outputs": [
    {
     "data": {
      "text/html": [
       "<div>\n",
       "<style scoped>\n",
       "    .dataframe tbody tr th:only-of-type {\n",
       "        vertical-align: middle;\n",
       "    }\n",
       "\n",
       "    .dataframe tbody tr th {\n",
       "        vertical-align: top;\n",
       "    }\n",
       "\n",
       "    .dataframe thead th {\n",
       "        text-align: right;\n",
       "    }\n",
       "</style>\n",
       "<table border=\"1\" class=\"dataframe\">\n",
       "  <thead>\n",
       "    <tr style=\"text-align: right;\">\n",
       "      <th></th>\n",
       "      <th>stop_name</th>\n",
       "      <th>daytime_routes</th>\n",
       "      <th>division</th>\n",
       "      <th>line</th>\n",
       "      <th>borough</th>\n",
       "      <th>structure</th>\n",
       "      <th>gtfs_longitude</th>\n",
       "      <th>gtfs_latitude</th>\n",
       "      <th>complex_id</th>\n",
       "      <th>date</th>\n",
       "      <th>entries</th>\n",
       "      <th>exits</th>\n",
       "      <th>entries_ABOD</th>\n",
       "      <th>anomaly_ABOD</th>\n",
       "      <th>entries_KNN</th>\n",
       "      <th>anomaly_knn</th>\n",
       "      <th>Score_CBLOF</th>\n",
       "      <th>Anomaly_CBLOF</th>\n",
       "      <th>Score_iForest</th>\n",
       "      <th>Anomaly_iforest</th>\n",
       "    </tr>\n",
       "  </thead>\n",
       "  <tbody>\n",
       "    <tr>\n",
       "      <th>0</th>\n",
       "      <td>Astoria  Ditmars Blvd</td>\n",
       "      <td>N W</td>\n",
       "      <td>BMT</td>\n",
       "      <td>Astoria</td>\n",
       "      <td>Q</td>\n",
       "      <td>Elevated</td>\n",
       "      <td>-73.912034</td>\n",
       "      <td>40.775036</td>\n",
       "      <td>1</td>\n",
       "      <td>2020-01-01</td>\n",
       "      <td>5812.0</td>\n",
       "      <td>6659.0</td>\n",
       "      <td>-6.212238e-08</td>\n",
       "      <td>0</td>\n",
       "      <td>60.406953</td>\n",
       "      <td>0</td>\n",
       "      <td>3226.610659</td>\n",
       "      <td>1</td>\n",
       "      <td>-0.043494</td>\n",
       "      <td>0</td>\n",
       "    </tr>\n",
       "    <tr>\n",
       "      <th>1</th>\n",
       "      <td>Astoria  Ditmars Blvd</td>\n",
       "      <td>N W</td>\n",
       "      <td>BMT</td>\n",
       "      <td>Astoria</td>\n",
       "      <td>Q</td>\n",
       "      <td>Elevated</td>\n",
       "      <td>-73.912034</td>\n",
       "      <td>40.775036</td>\n",
       "      <td>1</td>\n",
       "      <td>2020-01-02</td>\n",
       "      <td>15506.0</td>\n",
       "      <td>14307.0</td>\n",
       "      <td>-6.524665e-09</td>\n",
       "      <td>0</td>\n",
       "      <td>198.297756</td>\n",
       "      <td>1</td>\n",
       "      <td>8400.806817</td>\n",
       "      <td>1</td>\n",
       "      <td>0.087359</td>\n",
       "      <td>1</td>\n",
       "    </tr>\n",
       "    <tr>\n",
       "      <th>2</th>\n",
       "      <td>Astoria  Ditmars Blvd</td>\n",
       "      <td>N W</td>\n",
       "      <td>BMT</td>\n",
       "      <td>Astoria</td>\n",
       "      <td>Q</td>\n",
       "      <td>Elevated</td>\n",
       "      <td>-73.912034</td>\n",
       "      <td>40.775036</td>\n",
       "      <td>1</td>\n",
       "      <td>2020-01-03</td>\n",
       "      <td>15959.0</td>\n",
       "      <td>14500.0</td>\n",
       "      <td>-3.804586e-10</td>\n",
       "      <td>0</td>\n",
       "      <td>191.783732</td>\n",
       "      <td>1</td>\n",
       "      <td>8862.628127</td>\n",
       "      <td>1</td>\n",
       "      <td>0.086011</td>\n",
       "      <td>1</td>\n",
       "    </tr>\n",
       "    <tr>\n",
       "      <th>3</th>\n",
       "      <td>Astoria  Ditmars Blvd</td>\n",
       "      <td>N W</td>\n",
       "      <td>BMT</td>\n",
       "      <td>Astoria</td>\n",
       "      <td>Q</td>\n",
       "      <td>Elevated</td>\n",
       "      <td>-73.912034</td>\n",
       "      <td>40.775036</td>\n",
       "      <td>1</td>\n",
       "      <td>2020-01-04</td>\n",
       "      <td>9265.0</td>\n",
       "      <td>9161.0</td>\n",
       "      <td>-1.284716e-08</td>\n",
       "      <td>0</td>\n",
       "      <td>96.607453</td>\n",
       "      <td>1</td>\n",
       "      <td>711.015917</td>\n",
       "      <td>0</td>\n",
       "      <td>0.013953</td>\n",
       "      <td>1</td>\n",
       "    </tr>\n",
       "    <tr>\n",
       "      <th>4</th>\n",
       "      <td>Astoria  Ditmars Blvd</td>\n",
       "      <td>N W</td>\n",
       "      <td>BMT</td>\n",
       "      <td>Astoria</td>\n",
       "      <td>Q</td>\n",
       "      <td>Elevated</td>\n",
       "      <td>-73.912034</td>\n",
       "      <td>40.775036</td>\n",
       "      <td>1</td>\n",
       "      <td>2020-01-05</td>\n",
       "      <td>7191.0</td>\n",
       "      <td>7743.0</td>\n",
       "      <td>-2.564345e-07</td>\n",
       "      <td>0</td>\n",
       "      <td>44.553339</td>\n",
       "      <td>0</td>\n",
       "      <td>2382.589777</td>\n",
       "      <td>0</td>\n",
       "      <td>-0.035793</td>\n",
       "      <td>0</td>\n",
       "    </tr>\n",
       "    <tr>\n",
       "      <th>...</th>\n",
       "      <td>...</td>\n",
       "      <td>...</td>\n",
       "      <td>...</td>\n",
       "      <td>...</td>\n",
       "      <td>...</td>\n",
       "      <td>...</td>\n",
       "      <td>...</td>\n",
       "      <td>...</td>\n",
       "      <td>...</td>\n",
       "      <td>...</td>\n",
       "      <td>...</td>\n",
       "      <td>...</td>\n",
       "      <td>...</td>\n",
       "      <td>...</td>\n",
       "      <td>...</td>\n",
       "      <td>...</td>\n",
       "      <td>...</td>\n",
       "      <td>...</td>\n",
       "      <td>...</td>\n",
       "      <td>...</td>\n",
       "    </tr>\n",
       "    <tr>\n",
       "      <th>153292</th>\n",
       "      <td>Lorimer St</td>\n",
       "      <td>J M</td>\n",
       "      <td>BMT</td>\n",
       "      <td>Jamaica</td>\n",
       "      <td>Bk</td>\n",
       "      <td>Elevated</td>\n",
       "      <td>-73.947408</td>\n",
       "      <td>40.703869</td>\n",
       "      <td>99</td>\n",
       "      <td>2020-12-21</td>\n",
       "      <td>1771.0</td>\n",
       "      <td>1842.0</td>\n",
       "      <td>-2.997675e-04</td>\n",
       "      <td>0</td>\n",
       "      <td>8.246211</td>\n",
       "      <td>0</td>\n",
       "      <td>887.468267</td>\n",
       "      <td>0</td>\n",
       "      <td>-0.145005</td>\n",
       "      <td>0</td>\n",
       "    </tr>\n",
       "    <tr>\n",
       "      <th>153293</th>\n",
       "      <td>Lorimer St</td>\n",
       "      <td>J M</td>\n",
       "      <td>BMT</td>\n",
       "      <td>Jamaica</td>\n",
       "      <td>Bk</td>\n",
       "      <td>Elevated</td>\n",
       "      <td>-73.947408</td>\n",
       "      <td>40.703869</td>\n",
       "      <td>99</td>\n",
       "      <td>2020-12-22</td>\n",
       "      <td>1775.0</td>\n",
       "      <td>1783.0</td>\n",
       "      <td>-3.207254e-03</td>\n",
       "      <td>0</td>\n",
       "      <td>6.082763</td>\n",
       "      <td>0</td>\n",
       "      <td>843.461752</td>\n",
       "      <td>0</td>\n",
       "      <td>-0.147763</td>\n",
       "      <td>0</td>\n",
       "    </tr>\n",
       "    <tr>\n",
       "      <th>153294</th>\n",
       "      <td>Lorimer St</td>\n",
       "      <td>J M</td>\n",
       "      <td>BMT</td>\n",
       "      <td>Jamaica</td>\n",
       "      <td>Bk</td>\n",
       "      <td>Elevated</td>\n",
       "      <td>-73.947408</td>\n",
       "      <td>40.703869</td>\n",
       "      <td>99</td>\n",
       "      <td>2020-12-23</td>\n",
       "      <td>1767.0</td>\n",
       "      <td>1860.0</td>\n",
       "      <td>-1.304666e-03</td>\n",
       "      <td>0</td>\n",
       "      <td>7.000000</td>\n",
       "      <td>0</td>\n",
       "      <td>899.607873</td>\n",
       "      <td>0</td>\n",
       "      <td>-0.147131</td>\n",
       "      <td>0</td>\n",
       "    </tr>\n",
       "    <tr>\n",
       "      <th>153295</th>\n",
       "      <td>Lorimer St</td>\n",
       "      <td>J M</td>\n",
       "      <td>BMT</td>\n",
       "      <td>Jamaica</td>\n",
       "      <td>Bk</td>\n",
       "      <td>Elevated</td>\n",
       "      <td>-73.947408</td>\n",
       "      <td>40.703869</td>\n",
       "      <td>99</td>\n",
       "      <td>2020-12-24</td>\n",
       "      <td>1465.0</td>\n",
       "      <td>1545.0</td>\n",
       "      <td>-3.981888e-04</td>\n",
       "      <td>0</td>\n",
       "      <td>8.246211</td>\n",
       "      <td>0</td>\n",
       "      <td>471.281413</td>\n",
       "      <td>0</td>\n",
       "      <td>-0.145938</td>\n",
       "      <td>0</td>\n",
       "    </tr>\n",
       "    <tr>\n",
       "      <th>153296</th>\n",
       "      <td>Lorimer St</td>\n",
       "      <td>J M</td>\n",
       "      <td>BMT</td>\n",
       "      <td>Jamaica</td>\n",
       "      <td>Bk</td>\n",
       "      <td>Elevated</td>\n",
       "      <td>-73.947408</td>\n",
       "      <td>40.703869</td>\n",
       "      <td>99</td>\n",
       "      <td>2020-12-25</td>\n",
       "      <td>539.0</td>\n",
       "      <td>704.0</td>\n",
       "      <td>-1.640067e-03</td>\n",
       "      <td>0</td>\n",
       "      <td>5.000000</td>\n",
       "      <td>0</td>\n",
       "      <td>820.813061</td>\n",
       "      <td>0</td>\n",
       "      <td>-0.138340</td>\n",
       "      <td>0</td>\n",
       "    </tr>\n",
       "  </tbody>\n",
       "</table>\n",
       "<p>153277 rows × 20 columns</p>\n",
       "</div>"
      ],
      "text/plain": [
       "                    stop_name daytime_routes division     line borough  \\\n",
       "0       Astoria  Ditmars Blvd            N W      BMT  Astoria       Q   \n",
       "1       Astoria  Ditmars Blvd            N W      BMT  Astoria       Q   \n",
       "2       Astoria  Ditmars Blvd            N W      BMT  Astoria       Q   \n",
       "3       Astoria  Ditmars Blvd            N W      BMT  Astoria       Q   \n",
       "4       Astoria  Ditmars Blvd            N W      BMT  Astoria       Q   \n",
       "...                       ...            ...      ...      ...     ...   \n",
       "153292             Lorimer St            J M      BMT  Jamaica      Bk   \n",
       "153293             Lorimer St            J M      BMT  Jamaica      Bk   \n",
       "153294             Lorimer St            J M      BMT  Jamaica      Bk   \n",
       "153295             Lorimer St            J M      BMT  Jamaica      Bk   \n",
       "153296             Lorimer St            J M      BMT  Jamaica      Bk   \n",
       "\n",
       "       structure  gtfs_longitude  gtfs_latitude complex_id        date  \\\n",
       "0       Elevated      -73.912034      40.775036          1  2020-01-01   \n",
       "1       Elevated      -73.912034      40.775036          1  2020-01-02   \n",
       "2       Elevated      -73.912034      40.775036          1  2020-01-03   \n",
       "3       Elevated      -73.912034      40.775036          1  2020-01-04   \n",
       "4       Elevated      -73.912034      40.775036          1  2020-01-05   \n",
       "...          ...             ...            ...        ...         ...   \n",
       "153292  Elevated      -73.947408      40.703869         99  2020-12-21   \n",
       "153293  Elevated      -73.947408      40.703869         99  2020-12-22   \n",
       "153294  Elevated      -73.947408      40.703869         99  2020-12-23   \n",
       "153295  Elevated      -73.947408      40.703869         99  2020-12-24   \n",
       "153296  Elevated      -73.947408      40.703869         99  2020-12-25   \n",
       "\n",
       "        entries    exits  entries_ABOD  anomaly_ABOD  entries_KNN  \\\n",
       "0        5812.0   6659.0 -6.212238e-08             0    60.406953   \n",
       "1       15506.0  14307.0 -6.524665e-09             0   198.297756   \n",
       "2       15959.0  14500.0 -3.804586e-10             0   191.783732   \n",
       "3        9265.0   9161.0 -1.284716e-08             0    96.607453   \n",
       "4        7191.0   7743.0 -2.564345e-07             0    44.553339   \n",
       "...         ...      ...           ...           ...          ...   \n",
       "153292   1771.0   1842.0 -2.997675e-04             0     8.246211   \n",
       "153293   1775.0   1783.0 -3.207254e-03             0     6.082763   \n",
       "153294   1767.0   1860.0 -1.304666e-03             0     7.000000   \n",
       "153295   1465.0   1545.0 -3.981888e-04             0     8.246211   \n",
       "153296    539.0    704.0 -1.640067e-03             0     5.000000   \n",
       "\n",
       "        anomaly_knn  Score_CBLOF  Anomaly_CBLOF  Score_iForest  \\\n",
       "0                 0  3226.610659              1      -0.043494   \n",
       "1                 1  8400.806817              1       0.087359   \n",
       "2                 1  8862.628127              1       0.086011   \n",
       "3                 1   711.015917              0       0.013953   \n",
       "4                 0  2382.589777              0      -0.035793   \n",
       "...             ...          ...            ...            ...   \n",
       "153292            0   887.468267              0      -0.145005   \n",
       "153293            0   843.461752              0      -0.147763   \n",
       "153294            0   899.607873              0      -0.147131   \n",
       "153295            0   471.281413              0      -0.145938   \n",
       "153296            0   820.813061              0      -0.138340   \n",
       "\n",
       "        Anomaly_iforest  \n",
       "0                     0  \n",
       "1                     1  \n",
       "2                     1  \n",
       "3                     1  \n",
       "4                     0  \n",
       "...                 ...  \n",
       "153292                0  \n",
       "153293                0  \n",
       "153294                0  \n",
       "153295                0  \n",
       "153296                0  \n",
       "\n",
       "[153277 rows x 20 columns]"
      ]
     },
     "execution_count": 48,
     "metadata": {},
     "output_type": "execute_result"
    }
   ],
   "source": [
    "cd"
   ]
  },
  {
   "cell_type": "code",
   "execution_count": 49,
   "id": "4c02d386",
   "metadata": {},
   "outputs": [],
   "source": [
    "total_outliers_iforest = len(cd[cd['Anomaly_iforest']==1])"
   ]
  },
  {
   "cell_type": "code",
   "execution_count": 50,
   "id": "2e4494de",
   "metadata": {},
   "outputs": [
    {
     "data": {
      "text/plain": [
       "15325"
      ]
     },
     "execution_count": 50,
     "metadata": {},
     "output_type": "execute_result"
    }
   ],
   "source": [
    "total_outliers_iforest"
   ]
  },
  {
   "cell_type": "code",
   "execution_count": 51,
   "id": "83b155c9",
   "metadata": {},
   "outputs": [],
   "source": [
    "total_inliers_iforest = len(cd[cd['Anomaly_iforest']==0])"
   ]
  },
  {
   "cell_type": "code",
   "execution_count": 52,
   "id": "56a6e976",
   "metadata": {},
   "outputs": [
    {
     "data": {
      "text/plain": [
       "137952"
      ]
     },
     "execution_count": 52,
     "metadata": {},
     "output_type": "execute_result"
    }
   ],
   "source": [
    "total_inliers_iforest"
   ]
  },
  {
   "cell_type": "code",
   "execution_count": 58,
   "id": "51207c3e",
   "metadata": {},
   "outputs": [
    {
     "data": {
      "text/plain": [
       "<AxesSubplot:title={'center':'Isolation Forest'}, xlabel='Anomaly_iforest', ylabel='Density'>"
      ]
     },
     "execution_count": 58,
     "metadata": {},
     "output_type": "execute_result"
    },
    {
     "data": {
      "image/png": "[encoded data removed]",
      "text/plain": [
       "<Figure size 432x288 with 1 Axes>"
      ]
     },
     "metadata": {
      "needs_background": "light"
     },
     "output_type": "display_data"
    }
   ],
   "source": [
    "plt.title(\"Isolation Forest\")\n",
    "sns.distplot(cd['Anomaly_iforest'])"
   ]
  },
  {
   "cell_type": "code",
   "execution_count": null,
   "id": "47f9b1e5",
   "metadata": {},
   "outputs": [],
   "source": []
  }
 ],
 "metadata": {
  "kernelspec": {
   "display_name": "Python 3 (ipykernel)",
   "language": "python",
   "name": "python3"
  },
  "language_info": {
   "codemirror_mode": {
    "name": "ipython",
    "version": 3
   },
   "file_extension": ".py",
   "mimetype": "text/x-python",
   "name": "python",
   "nbconvert_exporter": "python",
   "pygments_lexer": "ipython3",
   "version": "3.9.7"
  }
 },
 "nbformat": 4,
 "nbformat_minor": 5
}
